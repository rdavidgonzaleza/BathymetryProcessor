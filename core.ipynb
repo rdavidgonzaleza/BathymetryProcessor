{
 "cells": [
  {
   "cell_type": "code",
   "execution_count": 3,
   "metadata": {},
   "outputs": [],
   "source": [
    "import pandas as pd\n",
    "import matplotlib.pyplot as plt\n",
    "import ipywidgets as widgets\n",
    "from IPython.display import display\n",
    "\n",
    "def leer_csv(archivo_csv):\n",
    "    return pd.read_csv(archivo_csv)\n"
   ]
  },
  {
   "cell_type": "code",
   "execution_count": null,
   "metadata": {},
   "outputs": [],
   "source": [
    "condicion_hidrologica1 = leer_csv(widgets.FileUpload(accept='.csv', multiple=False))"
   ]
  },
  {
   "cell_type": "code",
   "execution_count": null,
   "metadata": {},
   "outputs": [],
   "source": [
    "def graficar_batimetria(condicion_hidrologica1, condicionHidrologica2, fecha1, fecha2):\n",
    "    \"\"\"\n",
    "    figure es una funcion propia de matplotlib que \"dibuja\" o utiliza una grafica ya existente, aqui se crea\n",
    "    la grafica y con el parametro figsize le damos un ancho y largo en inches\n",
    "    \"\"\"\n",
    "    plt.figure(figsize=(10, 6))\n",
    "\n",
    "    plt.plot(condicion_hidrologica1['abscisa (m)'], )\n",
    "\n",
    "    \n",
    "    \n",
    "\n",
    "\n",
    "\"\"\"\n",
    "import pandas as pd\n",
    "import matplotlib.pyplot as plt\n",
    "\n",
    "# Función para leer los datos de los archivos CSV\n",
    "def leer_datos(nombre_archivo):\n",
    "    \n",
    "    Lee un archivo CSV y lo devuelve como un DataFrame de pandas.\n",
    "    \n",
    "    return pd.read_csv(nombre_archivo)\n",
    "\n",
    "# Función para graficar la topo-batimetría y cotas de agua\n",
    "def graficar_seccion(data1, data2, fecha1, fecha2):\n",
    "    \n",
    "    Grafica la topo-batimetría y las cotas de agua para dos condiciones hidrológicas.\n",
    "    \n",
    "    plt.figure(figsize=(10, 6))\n",
    "\n",
    "    # Graficar la topo-batimetría\n",
    "    plt.plot(data1['abscisa (m)'], data1['cota cause (m)'], label=f'Topo-batimetría {fecha1}', color='blue')\n",
    "    plt.plot(data2['abscisa (m)'], data2['cota cause (m)'], label=f'Topo-batimetría {fecha2}', color='green')\n",
    "\n",
    "    # Graficar la cota de agua\n",
    "    plt.plot(data1['abscisa (m)'], data1['cota agua (m)'], label=f'Cota agua {fecha1}', linestyle='--', color='blue')\n",
    "    plt.plot(data2['abscisa (m)'], data2['cota agua (m)'], label=f'Cota agua {fecha2}', linestyle='--', color='green')\n",
    "\n",
    "    # Configurar la gráfica\n",
    "    plt.title('Comparación de Sección Transversal del Río')\n",
    "    plt.xlabel('Abscisa (m)')\n",
    "    plt.ylabel('Cota (m)')\n",
    "    plt.legend()\n",
    "    plt.grid()\n",
    "    plt.show()\n",
    "\n",
    "# Ruta a los archivos CSV\n",
    "archivo1 = '2024-12-01.csv'  # Cambia a tus nombres de archivo\n",
    "archivo2 = '2024-12-15.csv'\n",
    "\n",
    "# Leer los datos\n",
    "data1 = leer_datos(archivo1)\n",
    "data2 = leer_datos(archivo2)\n",
    "\n",
    "# Extraer fechas de los nombres de los archivos (opcional)\n",
    "fecha1 = archivo1.split('.')[0]\n",
    "fecha2 = archivo2.split('.')[0]\n",
    "\n",
    "# Graficar los datos\n",
    "graficar_seccion(data1, data2, fecha1, fecha2)\n",
    "\n",
    "\"\"\""
   ]
  }
 ],
 "metadata": {
  "kernelspec": {
   "display_name": "bathymetry",
   "language": "python",
   "name": "python3"
  },
  "language_info": {
   "codemirror_mode": {
    "name": "ipython",
    "version": 3
   },
   "file_extension": ".py",
   "mimetype": "text/x-python",
   "name": "python",
   "nbconvert_exporter": "python",
   "pygments_lexer": "ipython3",
   "version": "3.13.0"
  }
 },
 "nbformat": 4,
 "nbformat_minor": 2
}
